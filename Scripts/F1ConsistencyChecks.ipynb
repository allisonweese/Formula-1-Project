{
 "cells": [
  {
   "cell_type": "markdown",
   "id": "e9156216-e6c1-4ff8-bb1c-e99ecaf77338",
   "metadata": {},
   "source": [
    "# Cleaning F1 Data\n",
    "## 1. Import libs and data\n",
    "## 2. Consistency Checks\n",
    "    2.1 Check shape and head\n",
    "    2.2 Missing Data\n",
    "    2.3 Duplicate Checks\n",
    "## 3. Statistical Analysis\n",
    "## 4. Check Data Types\n",
    "## 5. Export Data"
   ]
  },
  {
   "cell_type": "markdown",
   "id": "208e6a4f-8434-47fc-8bad-cf17a1a4dcd0",
   "metadata": {},
   "source": [
    "### 1. Import"
   ]
  },
  {
   "cell_type": "code",
   "execution_count": 50,
   "id": "2d556d6d-9537-485c-ae07-ae2bc24966d8",
   "metadata": {},
   "outputs": [],
   "source": [
    "# Import Libraries \n",
    "import pandas as pd \n",
    "import numpy as np \n",
    "import os"
   ]
  },
  {
   "cell_type": "code",
   "execution_count": 51,
   "id": "b46b7172-9d52-42fe-85b9-4b48843f7f4c",
   "metadata": {},
   "outputs": [],
   "source": [
    "# Set path\n",
    "path = r'/Users/allisonweese/Documents/Career Foundry/Achievement 6/F1'"
   ]
  },
  {
   "cell_type": "code",
   "execution_count": 52,
   "id": "b3c2bec1-c431-45f0-9559-6c25f45702e6",
   "metadata": {},
   "outputs": [],
   "source": [
    "# Import dataframes\n",
    "drivers = pd.read_csv(os.path.join(path, 'drivers_updated.csv'), index_col = False)\n",
    "laps = pd.read_csv(os.path.join(path, 'fastest_laps_updated.csv'), index_col = False)\n",
    "teams = pd.read_csv(os.path.join(path, 'teams_updated.csv'), index_col = False)\n",
    "winners = pd.read_csv(os.path.join(path, 'winners.csv'), index_col = False)"
   ]
  },
  {
   "cell_type": "markdown",
   "id": "ef33d464-7627-4d9d-8aa2-5493d32c12b0",
   "metadata": {},
   "source": [
    "### 2. Consistency Check"
   ]
  },
  {
   "cell_type": "markdown",
   "id": "df803385-7f62-4c0a-b49f-16b89b3b2629",
   "metadata": {},
   "source": [
    "##### 2.1 Check shape and head"
   ]
  },
  {
   "cell_type": "code",
   "execution_count": 53,
   "id": "dead7245-40b7-4742-9cf0-e49e230df4b3",
   "metadata": {},
   "outputs": [
    {
     "data": {
      "text/plain": [
       "(1661, 7)"
      ]
     },
     "execution_count": 53,
     "metadata": {},
     "output_type": "execute_result"
    }
   ],
   "source": [
    "# check shape\n",
    "drivers.shape"
   ]
  },
  {
   "cell_type": "code",
   "execution_count": 54,
   "id": "a1048b8f-1241-4148-9595-fc774a8fd346",
   "metadata": {},
   "outputs": [
    {
     "data": {
      "text/plain": [
       "(1108, 6)"
      ]
     },
     "execution_count": 54,
     "metadata": {},
     "output_type": "execute_result"
    }
   ],
   "source": [
    "laps.shape"
   ]
  },
  {
   "cell_type": "code",
   "execution_count": 55,
   "id": "f45bf1e2-d06d-42af-812e-d88da21726ab",
   "metadata": {},
   "outputs": [
    {
     "data": {
      "text/plain": [
       "(695, 4)"
      ]
     },
     "execution_count": 55,
     "metadata": {},
     "output_type": "execute_result"
    }
   ],
   "source": [
    "teams.shape"
   ]
  },
  {
   "cell_type": "code",
   "execution_count": 56,
   "id": "0c8c0d07-bed9-4ff9-a528-41f2fc38b955",
   "metadata": {},
   "outputs": [
    {
     "data": {
      "text/plain": [
       "(1110, 7)"
      ]
     },
     "execution_count": 56,
     "metadata": {},
     "output_type": "execute_result"
    }
   ],
   "source": [
    "winners.shape"
   ]
  },
  {
   "cell_type": "code",
   "execution_count": 57,
   "id": "ca1e5d2c-3970-4b04-9f19-f010fd2dffac",
   "metadata": {},
   "outputs": [
    {
     "data": {
      "text/html": [
       "<div>\n",
       "<style scoped>\n",
       "    .dataframe tbody tr th:only-of-type {\n",
       "        vertical-align: middle;\n",
       "    }\n",
       "\n",
       "    .dataframe tbody tr th {\n",
       "        vertical-align: top;\n",
       "    }\n",
       "\n",
       "    .dataframe thead th {\n",
       "        text-align: right;\n",
       "    }\n",
       "</style>\n",
       "<table border=\"1\" class=\"dataframe\">\n",
       "  <thead>\n",
       "    <tr style=\"text-align: right;\">\n",
       "      <th></th>\n",
       "      <th>Pos</th>\n",
       "      <th>Driver</th>\n",
       "      <th>Nationality</th>\n",
       "      <th>Car</th>\n",
       "      <th>PTS</th>\n",
       "      <th>year</th>\n",
       "      <th>Code</th>\n",
       "    </tr>\n",
       "  </thead>\n",
       "  <tbody>\n",
       "    <tr>\n",
       "      <th>0</th>\n",
       "      <td>1</td>\n",
       "      <td>Nino  Farina</td>\n",
       "      <td>ITA</td>\n",
       "      <td>Alfa Romeo</td>\n",
       "      <td>30.0</td>\n",
       "      <td>1950</td>\n",
       "      <td>FAR</td>\n",
       "    </tr>\n",
       "    <tr>\n",
       "      <th>1</th>\n",
       "      <td>2</td>\n",
       "      <td>Juan Manuel  Fangio</td>\n",
       "      <td>ARG</td>\n",
       "      <td>Alfa Romeo</td>\n",
       "      <td>27.0</td>\n",
       "      <td>1950</td>\n",
       "      <td>FAN</td>\n",
       "    </tr>\n",
       "    <tr>\n",
       "      <th>2</th>\n",
       "      <td>3</td>\n",
       "      <td>Luigi  Fagioli</td>\n",
       "      <td>ITA</td>\n",
       "      <td>Alfa Romeo</td>\n",
       "      <td>24.0</td>\n",
       "      <td>1950</td>\n",
       "      <td>FAG</td>\n",
       "    </tr>\n",
       "    <tr>\n",
       "      <th>3</th>\n",
       "      <td>4</td>\n",
       "      <td>Louis Rosier</td>\n",
       "      <td>FRA</td>\n",
       "      <td>Talbot-Lago</td>\n",
       "      <td>13.0</td>\n",
       "      <td>1950</td>\n",
       "      <td>ROS</td>\n",
       "    </tr>\n",
       "    <tr>\n",
       "      <th>4</th>\n",
       "      <td>5</td>\n",
       "      <td>Alberto  Ascari</td>\n",
       "      <td>ITA</td>\n",
       "      <td>Ferrari</td>\n",
       "      <td>11.0</td>\n",
       "      <td>1950</td>\n",
       "      <td>ASC</td>\n",
       "    </tr>\n",
       "  </tbody>\n",
       "</table>\n",
       "</div>"
      ],
      "text/plain": [
       "  Pos                Driver Nationality          Car   PTS  year Code\n",
       "0   1         Nino  Farina          ITA   Alfa Romeo  30.0  1950  FAR\n",
       "1   2  Juan Manuel  Fangio          ARG   Alfa Romeo  27.0  1950  FAN\n",
       "2   3       Luigi  Fagioli          ITA   Alfa Romeo  24.0  1950  FAG\n",
       "3   4         Louis Rosier          FRA  Talbot-Lago  13.0  1950  ROS\n",
       "4   5      Alberto  Ascari          ITA      Ferrari  11.0  1950  ASC"
      ]
     },
     "execution_count": 57,
     "metadata": {},
     "output_type": "execute_result"
    }
   ],
   "source": [
    "# check head\n",
    "drivers.head()"
   ]
  },
  {
   "cell_type": "code",
   "execution_count": 58,
   "id": "2115a7cb-71a6-4d82-bc6f-336c5639093b",
   "metadata": {},
   "outputs": [
    {
     "data": {
      "text/html": [
       "<div>\n",
       "<style scoped>\n",
       "    .dataframe tbody tr th:only-of-type {\n",
       "        vertical-align: middle;\n",
       "    }\n",
       "\n",
       "    .dataframe tbody tr th {\n",
       "        vertical-align: top;\n",
       "    }\n",
       "\n",
       "    .dataframe thead th {\n",
       "        text-align: right;\n",
       "    }\n",
       "</style>\n",
       "<table border=\"1\" class=\"dataframe\">\n",
       "  <thead>\n",
       "    <tr style=\"text-align: right;\">\n",
       "      <th></th>\n",
       "      <th>Grand Prix</th>\n",
       "      <th>Driver</th>\n",
       "      <th>Car</th>\n",
       "      <th>Time</th>\n",
       "      <th>year</th>\n",
       "      <th>Code</th>\n",
       "    </tr>\n",
       "  </thead>\n",
       "  <tbody>\n",
       "    <tr>\n",
       "      <th>0</th>\n",
       "      <td>Great Britain</td>\n",
       "      <td>Nino  Farina</td>\n",
       "      <td>Alfa Romeo</td>\n",
       "      <td>1:50.600</td>\n",
       "      <td>1950</td>\n",
       "      <td>FAR</td>\n",
       "    </tr>\n",
       "    <tr>\n",
       "      <th>1</th>\n",
       "      <td>Monaco</td>\n",
       "      <td>Juan Manuel  Fangio</td>\n",
       "      <td>Alfa Romeo</td>\n",
       "      <td>1:51.000</td>\n",
       "      <td>1950</td>\n",
       "      <td>FAN</td>\n",
       "    </tr>\n",
       "    <tr>\n",
       "      <th>2</th>\n",
       "      <td>Indianapolis 500</td>\n",
       "      <td>Johnnie Parsons</td>\n",
       "      <td>Kurtis Kraft Offenhauser</td>\n",
       "      <td>NaN</td>\n",
       "      <td>1950</td>\n",
       "      <td>PAR</td>\n",
       "    </tr>\n",
       "    <tr>\n",
       "      <th>3</th>\n",
       "      <td>Switzerland</td>\n",
       "      <td>Nino  Farina</td>\n",
       "      <td>Alfa Romeo</td>\n",
       "      <td>2:41.600</td>\n",
       "      <td>1950</td>\n",
       "      <td>FAR</td>\n",
       "    </tr>\n",
       "    <tr>\n",
       "      <th>4</th>\n",
       "      <td>Belgium</td>\n",
       "      <td>Nino  Farina</td>\n",
       "      <td>Alfa Romeo</td>\n",
       "      <td>4:34.100</td>\n",
       "      <td>1950</td>\n",
       "      <td>FAR</td>\n",
       "    </tr>\n",
       "  </tbody>\n",
       "</table>\n",
       "</div>"
      ],
      "text/plain": [
       "         Grand Prix                Driver                       Car      Time  \\\n",
       "0     Great Britain         Nino  Farina                 Alfa Romeo  1:50.600   \n",
       "1            Monaco  Juan Manuel  Fangio                 Alfa Romeo  1:51.000   \n",
       "2  Indianapolis 500      Johnnie Parsons   Kurtis Kraft Offenhauser       NaN   \n",
       "3       Switzerland         Nino  Farina                 Alfa Romeo  2:41.600   \n",
       "4           Belgium         Nino  Farina                 Alfa Romeo  4:34.100   \n",
       "\n",
       "   year Code  \n",
       "0  1950  FAR  \n",
       "1  1950  FAN  \n",
       "2  1950  PAR  \n",
       "3  1950  FAR  \n",
       "4  1950  FAR  "
      ]
     },
     "execution_count": 58,
     "metadata": {},
     "output_type": "execute_result"
    }
   ],
   "source": [
    "laps.head()"
   ]
  },
  {
   "cell_type": "code",
   "execution_count": 59,
   "id": "b9640728-b3c2-4b4b-bca1-8726483813d3",
   "metadata": {},
   "outputs": [
    {
     "data": {
      "text/html": [
       "<div>\n",
       "<style scoped>\n",
       "    .dataframe tbody tr th:only-of-type {\n",
       "        vertical-align: middle;\n",
       "    }\n",
       "\n",
       "    .dataframe tbody tr th {\n",
       "        vertical-align: top;\n",
       "    }\n",
       "\n",
       "    .dataframe thead th {\n",
       "        text-align: right;\n",
       "    }\n",
       "</style>\n",
       "<table border=\"1\" class=\"dataframe\">\n",
       "  <thead>\n",
       "    <tr style=\"text-align: right;\">\n",
       "      <th></th>\n",
       "      <th>Pos</th>\n",
       "      <th>Team</th>\n",
       "      <th>PTS</th>\n",
       "      <th>year</th>\n",
       "    </tr>\n",
       "  </thead>\n",
       "  <tbody>\n",
       "    <tr>\n",
       "      <th>0</th>\n",
       "      <td>1</td>\n",
       "      <td>Vanwall</td>\n",
       "      <td>48.0</td>\n",
       "      <td>1958</td>\n",
       "    </tr>\n",
       "    <tr>\n",
       "      <th>1</th>\n",
       "      <td>2</td>\n",
       "      <td>Ferrari</td>\n",
       "      <td>40.0</td>\n",
       "      <td>1958</td>\n",
       "    </tr>\n",
       "    <tr>\n",
       "      <th>2</th>\n",
       "      <td>3</td>\n",
       "      <td>Cooper Climax</td>\n",
       "      <td>31.0</td>\n",
       "      <td>1958</td>\n",
       "    </tr>\n",
       "    <tr>\n",
       "      <th>3</th>\n",
       "      <td>4</td>\n",
       "      <td>BRM</td>\n",
       "      <td>18.0</td>\n",
       "      <td>1958</td>\n",
       "    </tr>\n",
       "    <tr>\n",
       "      <th>4</th>\n",
       "      <td>5</td>\n",
       "      <td>Maserati</td>\n",
       "      <td>6.0</td>\n",
       "      <td>1958</td>\n",
       "    </tr>\n",
       "  </tbody>\n",
       "</table>\n",
       "</div>"
      ],
      "text/plain": [
       "  Pos           Team   PTS  year\n",
       "0   1        Vanwall  48.0  1958\n",
       "1   2        Ferrari  40.0  1958\n",
       "2   3  Cooper Climax  31.0  1958\n",
       "3   4            BRM  18.0  1958\n",
       "4   5       Maserati   6.0  1958"
      ]
     },
     "execution_count": 59,
     "metadata": {},
     "output_type": "execute_result"
    }
   ],
   "source": [
    "teams.head()"
   ]
  },
  {
   "cell_type": "code",
   "execution_count": 60,
   "id": "747b3b07-8e04-41c3-9f14-2c098dd1b450",
   "metadata": {},
   "outputs": [
    {
     "data": {
      "text/html": [
       "<div>\n",
       "<style scoped>\n",
       "    .dataframe tbody tr th:only-of-type {\n",
       "        vertical-align: middle;\n",
       "    }\n",
       "\n",
       "    .dataframe tbody tr th {\n",
       "        vertical-align: top;\n",
       "    }\n",
       "\n",
       "    .dataframe thead th {\n",
       "        text-align: right;\n",
       "    }\n",
       "</style>\n",
       "<table border=\"1\" class=\"dataframe\">\n",
       "  <thead>\n",
       "    <tr style=\"text-align: right;\">\n",
       "      <th></th>\n",
       "      <th>Grand Prix</th>\n",
       "      <th>Date</th>\n",
       "      <th>Winner</th>\n",
       "      <th>Car</th>\n",
       "      <th>Laps</th>\n",
       "      <th>Time</th>\n",
       "      <th>Name Code</th>\n",
       "    </tr>\n",
       "  </thead>\n",
       "  <tbody>\n",
       "    <tr>\n",
       "      <th>0</th>\n",
       "      <td>Great Britain</td>\n",
       "      <td>1950-05-13</td>\n",
       "      <td>Nino  Farina</td>\n",
       "      <td>Alfa Romeo</td>\n",
       "      <td>70.0</td>\n",
       "      <td>2:13:23.600</td>\n",
       "      <td>FAR</td>\n",
       "    </tr>\n",
       "    <tr>\n",
       "      <th>1</th>\n",
       "      <td>Monaco</td>\n",
       "      <td>1950-05-21</td>\n",
       "      <td>Juan Manuel  Fangio</td>\n",
       "      <td>Alfa Romeo</td>\n",
       "      <td>100.0</td>\n",
       "      <td>3:13:18.700</td>\n",
       "      <td>FAN</td>\n",
       "    </tr>\n",
       "    <tr>\n",
       "      <th>2</th>\n",
       "      <td>Indianapolis 500</td>\n",
       "      <td>1950-05-30</td>\n",
       "      <td>Johnnie Parsons</td>\n",
       "      <td>Kurtis Kraft Offenhauser</td>\n",
       "      <td>138.0</td>\n",
       "      <td>2:46:55.970</td>\n",
       "      <td>PAR</td>\n",
       "    </tr>\n",
       "    <tr>\n",
       "      <th>3</th>\n",
       "      <td>Switzerland</td>\n",
       "      <td>1950-06-04</td>\n",
       "      <td>Nino  Farina</td>\n",
       "      <td>Alfa Romeo</td>\n",
       "      <td>42.0</td>\n",
       "      <td>2:02:53.700</td>\n",
       "      <td>FAR</td>\n",
       "    </tr>\n",
       "    <tr>\n",
       "      <th>4</th>\n",
       "      <td>Belgium</td>\n",
       "      <td>1950-06-18</td>\n",
       "      <td>Juan Manuel  Fangio</td>\n",
       "      <td>Alfa Romeo</td>\n",
       "      <td>35.0</td>\n",
       "      <td>2:47:26.000</td>\n",
       "      <td>FAN</td>\n",
       "    </tr>\n",
       "  </tbody>\n",
       "</table>\n",
       "</div>"
      ],
      "text/plain": [
       "         Grand Prix        Date                Winner  \\\n",
       "0     Great Britain  1950-05-13         Nino  Farina    \n",
       "1            Monaco  1950-05-21  Juan Manuel  Fangio    \n",
       "2  Indianapolis 500  1950-05-30      Johnnie Parsons    \n",
       "3       Switzerland  1950-06-04         Nino  Farina    \n",
       "4           Belgium  1950-06-18  Juan Manuel  Fangio    \n",
       "\n",
       "                        Car   Laps         Time Name Code  \n",
       "0                Alfa Romeo   70.0  2:13:23.600       FAR  \n",
       "1                Alfa Romeo  100.0  3:13:18.700       FAN  \n",
       "2  Kurtis Kraft Offenhauser  138.0  2:46:55.970       PAR  \n",
       "3                Alfa Romeo   42.0  2:02:53.700       FAR  \n",
       "4                Alfa Romeo   35.0  2:47:26.000       FAN  "
      ]
     },
     "execution_count": 60,
     "metadata": {},
     "output_type": "execute_result"
    }
   ],
   "source": [
    "winners.head()"
   ]
  },
  {
   "cell_type": "markdown",
   "id": "0d1e114e-8719-43b4-9590-f33b4261fe52",
   "metadata": {},
   "source": [
    "##### 2.2 Check missing values and address"
   ]
  },
  {
   "cell_type": "code",
   "execution_count": 61,
   "id": "7cb06210-ae5a-4a1a-ab62-7c34126cf586",
   "metadata": {},
   "outputs": [
    {
     "name": "stdout",
     "output_type": "stream",
     "text": [
      "Grand Prix    0\n",
      "Driver        0\n",
      "Car           0\n",
      "Time          1\n",
      "year          0\n",
      "Code          0\n",
      "dtype: int64\n"
     ]
    }
   ],
   "source": [
    "# check for missing values in laps df\n",
    "missing_values = laps.isnull().sum()\n",
    "print(missing_values)"
   ]
  },
  {
   "cell_type": "code",
   "execution_count": 62,
   "id": "46fcad48-ac60-4599-be1e-13defe988a4d",
   "metadata": {},
   "outputs": [
    {
     "data": {
      "text/plain": [
       "Grand Prix    0\n",
       "Driver        0\n",
       "Car           0\n",
       "Time          0\n",
       "year          0\n",
       "Code          0\n",
       "dtype: int64"
      ]
     },
     "execution_count": 62,
     "metadata": {},
     "output_type": "execute_result"
    }
   ],
   "source": [
    "#drop row with missing value\n",
    "laps_nomiss = laps.dropna()\n",
    "\n",
    "# Verify that there are no more missing values\n",
    "missing_values_after = laps_nomiss.isna().sum()\n",
    "missing_values_after"
   ]
  },
  {
   "cell_type": "code",
   "execution_count": 63,
   "id": "7e3b679e-ff29-4924-8b68-a206c0a923b4",
   "metadata": {},
   "outputs": [
    {
     "name": "stdout",
     "output_type": "stream",
     "text": [
      "Pos     0\n",
      "Team    0\n",
      "PTS     0\n",
      "year    0\n",
      "dtype: int64\n"
     ]
    }
   ],
   "source": [
    "# check for missing values in teams df\n",
    "missing_values = teams.isnull().sum()\n",
    "print(missing_values)"
   ]
  },
  {
   "cell_type": "code",
   "execution_count": 64,
   "id": "9986b394-35f0-430a-a1b4-93dfaf151f1a",
   "metadata": {},
   "outputs": [],
   "source": [
    "# no missing values in teams"
   ]
  },
  {
   "cell_type": "code",
   "execution_count": 65,
   "id": "53dde039-b857-4ce5-96ad-617eb0b3df0c",
   "metadata": {},
   "outputs": [
    {
     "name": "stdout",
     "output_type": "stream",
     "text": [
      "Grand Prix    0\n",
      "Date          0\n",
      "Winner        0\n",
      "Car           0\n",
      "Laps          3\n",
      "Time          3\n",
      "Name Code     0\n",
      "dtype: int64\n"
     ]
    }
   ],
   "source": [
    "# check for missing values in winners df\n",
    "missing_values = winners.isnull().sum()\n",
    "print(missing_values)"
   ]
  },
  {
   "cell_type": "code",
   "execution_count": 68,
   "id": "cb5aca99-a08d-44c3-8029-52bd250dd39a",
   "metadata": {},
   "outputs": [
    {
     "data": {
      "text/plain": [
       "Grand Prix    0\n",
       "Date          0\n",
       "Winner        0\n",
       "Car           0\n",
       "Laps          0\n",
       "Time          0\n",
       "Name Code     0\n",
       "dtype: int64"
      ]
     },
     "execution_count": 68,
     "metadata": {},
     "output_type": "execute_result"
    }
   ],
   "source": [
    "#drop rows with missing value\n",
    "winners_nomiss = winners.dropna()\n",
    "\n",
    "# Verify that there are no more missing values\n",
    "missing_values_after = winners_nomiss.isna().sum()\n",
    "missing_values_after"
   ]
  },
  {
   "cell_type": "code",
   "execution_count": 67,
   "id": "b6d7d220-d340-4a5c-bc29-4cd5f21e72a6",
   "metadata": {},
   "outputs": [
    {
     "name": "stdout",
     "output_type": "stream",
     "text": [
      "Pos             0\n",
      "Driver          0\n",
      "Nationality     0\n",
      "Car            11\n",
      "PTS             0\n",
      "year            0\n",
      "Code            0\n",
      "dtype: int64\n"
     ]
    }
   ],
   "source": [
    "# check for missing values in drivers df\n",
    "missing_values = drivers.isnull().sum()\n",
    "print(missing_values)"
   ]
  },
  {
   "cell_type": "code",
   "execution_count": 69,
   "id": "83bb4cf9-1fc9-484a-9576-ff78514a4e1b",
   "metadata": {},
   "outputs": [
    {
     "data": {
      "text/plain": [
       "Pos            0\n",
       "Driver         0\n",
       "Nationality    0\n",
       "Car            0\n",
       "PTS            0\n",
       "year           0\n",
       "Code           0\n",
       "dtype: int64"
      ]
     },
     "execution_count": 69,
     "metadata": {},
     "output_type": "execute_result"
    }
   ],
   "source": [
    "#drop rows with missing value\n",
    "drivers_nomiss = drivers.dropna()\n",
    "\n",
    "# Verify that there are no more missing values\n",
    "missing_values_after = drivers_nomiss.isna().sum()\n",
    "missing_values_after"
   ]
  },
  {
   "cell_type": "markdown",
   "id": "a38176b6-c36a-45b5-8c46-eda1b2c83377",
   "metadata": {},
   "source": [
    "##### 2.3 Check for dupes"
   ]
  },
  {
   "cell_type": "code",
   "execution_count": 70,
   "id": "e9c34afe-e4ab-4111-bf3f-b4fbff7e7f02",
   "metadata": {},
   "outputs": [
    {
     "data": {
      "text/html": [
       "<div>\n",
       "<style scoped>\n",
       "    .dataframe tbody tr th:only-of-type {\n",
       "        vertical-align: middle;\n",
       "    }\n",
       "\n",
       "    .dataframe tbody tr th {\n",
       "        vertical-align: top;\n",
       "    }\n",
       "\n",
       "    .dataframe thead th {\n",
       "        text-align: right;\n",
       "    }\n",
       "</style>\n",
       "<table border=\"1\" class=\"dataframe\">\n",
       "  <thead>\n",
       "    <tr style=\"text-align: right;\">\n",
       "      <th></th>\n",
       "      <th>Pos</th>\n",
       "      <th>Driver</th>\n",
       "      <th>Nationality</th>\n",
       "      <th>Car</th>\n",
       "      <th>PTS</th>\n",
       "      <th>year</th>\n",
       "      <th>Code</th>\n",
       "    </tr>\n",
       "  </thead>\n",
       "  <tbody>\n",
       "  </tbody>\n",
       "</table>\n",
       "</div>"
      ],
      "text/plain": [
       "Empty DataFrame\n",
       "Columns: [Pos, Driver, Nationality, Car, PTS, year, Code]\n",
       "Index: []"
      ]
     },
     "execution_count": 70,
     "metadata": {},
     "output_type": "execute_result"
    }
   ],
   "source": [
    "# Check for duplicate rows\n",
    "duplicate_rows = drivers_nomiss[drivers_nomiss.duplicated()]\n",
    "\n",
    "# Display the duplicate rows\n",
    "duplicate_rows"
   ]
  },
  {
   "cell_type": "code",
   "execution_count": 71,
   "id": "40719d5e-ca30-48e5-8e6d-3ed6d1b09b6a",
   "metadata": {},
   "outputs": [
    {
     "data": {
      "text/html": [
       "<div>\n",
       "<style scoped>\n",
       "    .dataframe tbody tr th:only-of-type {\n",
       "        vertical-align: middle;\n",
       "    }\n",
       "\n",
       "    .dataframe tbody tr th {\n",
       "        vertical-align: top;\n",
       "    }\n",
       "\n",
       "    .dataframe thead th {\n",
       "        text-align: right;\n",
       "    }\n",
       "</style>\n",
       "<table border=\"1\" class=\"dataframe\">\n",
       "  <thead>\n",
       "    <tr style=\"text-align: right;\">\n",
       "      <th></th>\n",
       "      <th>Grand Prix</th>\n",
       "      <th>Date</th>\n",
       "      <th>Winner</th>\n",
       "      <th>Car</th>\n",
       "      <th>Laps</th>\n",
       "      <th>Time</th>\n",
       "      <th>Name Code</th>\n",
       "    </tr>\n",
       "  </thead>\n",
       "  <tbody>\n",
       "  </tbody>\n",
       "</table>\n",
       "</div>"
      ],
      "text/plain": [
       "Empty DataFrame\n",
       "Columns: [Grand Prix, Date, Winner, Car, Laps, Time, Name Code]\n",
       "Index: []"
      ]
     },
     "execution_count": 71,
     "metadata": {},
     "output_type": "execute_result"
    }
   ],
   "source": [
    "# Check for duplicate rows\n",
    "duplicate_rows = winners_nomiss[winners_nomiss.duplicated()]\n",
    "\n",
    "# Display the duplicate rows\n",
    "duplicate_rows"
   ]
  },
  {
   "cell_type": "code",
   "execution_count": 72,
   "id": "03d4122a-c3bb-4d15-84ff-277474bb56ca",
   "metadata": {},
   "outputs": [
    {
     "data": {
      "text/html": [
       "<div>\n",
       "<style scoped>\n",
       "    .dataframe tbody tr th:only-of-type {\n",
       "        vertical-align: middle;\n",
       "    }\n",
       "\n",
       "    .dataframe tbody tr th {\n",
       "        vertical-align: top;\n",
       "    }\n",
       "\n",
       "    .dataframe thead th {\n",
       "        text-align: right;\n",
       "    }\n",
       "</style>\n",
       "<table border=\"1\" class=\"dataframe\">\n",
       "  <thead>\n",
       "    <tr style=\"text-align: right;\">\n",
       "      <th></th>\n",
       "      <th>Pos</th>\n",
       "      <th>Team</th>\n",
       "      <th>PTS</th>\n",
       "      <th>year</th>\n",
       "    </tr>\n",
       "  </thead>\n",
       "  <tbody>\n",
       "  </tbody>\n",
       "</table>\n",
       "</div>"
      ],
      "text/plain": [
       "Empty DataFrame\n",
       "Columns: [Pos, Team, PTS, year]\n",
       "Index: []"
      ]
     },
     "execution_count": 72,
     "metadata": {},
     "output_type": "execute_result"
    }
   ],
   "source": [
    "# Check for duplicate rows\n",
    "duplicate_rows = teams[teams.duplicated()]\n",
    "\n",
    "# Display the duplicate rows\n",
    "duplicate_rows"
   ]
  },
  {
   "cell_type": "code",
   "execution_count": 73,
   "id": "43d5ff9d-755c-4843-9bb4-5c19434ca632",
   "metadata": {},
   "outputs": [
    {
     "data": {
      "text/html": [
       "<div>\n",
       "<style scoped>\n",
       "    .dataframe tbody tr th:only-of-type {\n",
       "        vertical-align: middle;\n",
       "    }\n",
       "\n",
       "    .dataframe tbody tr th {\n",
       "        vertical-align: top;\n",
       "    }\n",
       "\n",
       "    .dataframe thead th {\n",
       "        text-align: right;\n",
       "    }\n",
       "</style>\n",
       "<table border=\"1\" class=\"dataframe\">\n",
       "  <thead>\n",
       "    <tr style=\"text-align: right;\">\n",
       "      <th></th>\n",
       "      <th>Grand Prix</th>\n",
       "      <th>Driver</th>\n",
       "      <th>Car</th>\n",
       "      <th>Time</th>\n",
       "      <th>year</th>\n",
       "      <th>Code</th>\n",
       "    </tr>\n",
       "  </thead>\n",
       "  <tbody>\n",
       "  </tbody>\n",
       "</table>\n",
       "</div>"
      ],
      "text/plain": [
       "Empty DataFrame\n",
       "Columns: [Grand Prix, Driver, Car, Time, year, Code]\n",
       "Index: []"
      ]
     },
     "execution_count": 73,
     "metadata": {},
     "output_type": "execute_result"
    }
   ],
   "source": [
    "# Check for duplicate rows\n",
    "duplicate_rows = laps_nomiss[laps_nomiss.duplicated()]\n",
    "\n",
    "# Display the duplicate rows\n",
    "duplicate_rows"
   ]
  },
  {
   "cell_type": "code",
   "execution_count": 74,
   "id": "ddb71d11-2d6c-4b30-a2d6-991dd2f76b49",
   "metadata": {},
   "outputs": [],
   "source": [
    "# no dupes"
   ]
  },
  {
   "cell_type": "markdown",
   "id": "4e72d30a-689f-4adf-a13c-109994e01769",
   "metadata": {},
   "source": [
    "#### 3. Statistical Analysis"
   ]
  },
  {
   "cell_type": "code",
   "execution_count": 82,
   "id": "ba3747cb-56b2-449e-ad8d-ee04ec3f31ce",
   "metadata": {},
   "outputs": [
    {
     "data": {
      "text/html": [
       "<div>\n",
       "<style scoped>\n",
       "    .dataframe tbody tr th:only-of-type {\n",
       "        vertical-align: middle;\n",
       "    }\n",
       "\n",
       "    .dataframe tbody tr th {\n",
       "        vertical-align: top;\n",
       "    }\n",
       "\n",
       "    .dataframe thead th {\n",
       "        text-align: right;\n",
       "    }\n",
       "</style>\n",
       "<table border=\"1\" class=\"dataframe\">\n",
       "  <thead>\n",
       "    <tr style=\"text-align: right;\">\n",
       "      <th></th>\n",
       "      <th>Pos</th>\n",
       "      <th>PTS</th>\n",
       "      <th>year</th>\n",
       "    </tr>\n",
       "  </thead>\n",
       "  <tbody>\n",
       "    <tr>\n",
       "      <th>count</th>\n",
       "      <td>1649.0</td>\n",
       "      <td>1650.000000</td>\n",
       "      <td>1650.000000</td>\n",
       "    </tr>\n",
       "    <tr>\n",
       "      <th>mean</th>\n",
       "      <td>11.406307</td>\n",
       "      <td>31.311212</td>\n",
       "      <td>1987.304848</td>\n",
       "    </tr>\n",
       "    <tr>\n",
       "      <th>std</th>\n",
       "      <td>6.445805</td>\n",
       "      <td>60.605635</td>\n",
       "      <td>21.797676</td>\n",
       "    </tr>\n",
       "    <tr>\n",
       "      <th>min</th>\n",
       "      <td>1.0</td>\n",
       "      <td>0.000000</td>\n",
       "      <td>1950.000000</td>\n",
       "    </tr>\n",
       "    <tr>\n",
       "      <th>25%</th>\n",
       "      <td>6.0</td>\n",
       "      <td>3.000000</td>\n",
       "      <td>1968.000000</td>\n",
       "    </tr>\n",
       "    <tr>\n",
       "      <th>50%</th>\n",
       "      <td>11.0</td>\n",
       "      <td>9.000000</td>\n",
       "      <td>1988.000000</td>\n",
       "    </tr>\n",
       "    <tr>\n",
       "      <th>75%</th>\n",
       "      <td>17.0</td>\n",
       "      <td>32.000000</td>\n",
       "      <td>2007.000000</td>\n",
       "    </tr>\n",
       "    <tr>\n",
       "      <th>max</th>\n",
       "      <td>28.0</td>\n",
       "      <td>575.000000</td>\n",
       "      <td>2024.000000</td>\n",
       "    </tr>\n",
       "  </tbody>\n",
       "</table>\n",
       "</div>"
      ],
      "text/plain": [
       "             Pos          PTS         year\n",
       "count     1649.0  1650.000000  1650.000000\n",
       "mean   11.406307    31.311212  1987.304848\n",
       "std     6.445805    60.605635    21.797676\n",
       "min          1.0     0.000000  1950.000000\n",
       "25%          6.0     3.000000  1968.000000\n",
       "50%         11.0     9.000000  1988.000000\n",
       "75%         17.0    32.000000  2007.000000\n",
       "max         28.0   575.000000  2024.000000"
      ]
     },
     "execution_count": 82,
     "metadata": {},
     "output_type": "execute_result"
    }
   ],
   "source": [
    "# Basic descriptive statistics drivers\n",
    "descriptive_stats = drivers_nomiss.describe()\n",
    "descriptive_stats"
   ]
  },
  {
   "cell_type": "code",
   "execution_count": 85,
   "id": "58bf2425-6813-4e51-9fe6-da9ae4a5a9e2",
   "metadata": {},
   "outputs": [
    {
     "data": {
      "text/html": [
       "<div>\n",
       "<style scoped>\n",
       "    .dataframe tbody tr th:only-of-type {\n",
       "        vertical-align: middle;\n",
       "    }\n",
       "\n",
       "    .dataframe tbody tr th {\n",
       "        vertical-align: top;\n",
       "    }\n",
       "\n",
       "    .dataframe thead th {\n",
       "        text-align: right;\n",
       "    }\n",
       "</style>\n",
       "<table border=\"1\" class=\"dataframe\">\n",
       "  <thead>\n",
       "    <tr style=\"text-align: right;\">\n",
       "      <th></th>\n",
       "      <th>Pos</th>\n",
       "      <th>PTS</th>\n",
       "      <th>year</th>\n",
       "    </tr>\n",
       "  </thead>\n",
       "  <tbody>\n",
       "    <tr>\n",
       "      <th>count</th>\n",
       "      <td>693.0</td>\n",
       "      <td>695.000000</td>\n",
       "      <td>695.000000</td>\n",
       "    </tr>\n",
       "    <tr>\n",
       "      <th>mean</th>\n",
       "      <td>5.88456</td>\n",
       "      <td>70.191367</td>\n",
       "      <td>1992.133813</td>\n",
       "    </tr>\n",
       "    <tr>\n",
       "      <th>std</th>\n",
       "      <td>3.295812</td>\n",
       "      <td>125.683887</td>\n",
       "      <td>18.337241</td>\n",
       "    </tr>\n",
       "    <tr>\n",
       "      <th>min</th>\n",
       "      <td>1.0</td>\n",
       "      <td>0.000000</td>\n",
       "      <td>1958.000000</td>\n",
       "    </tr>\n",
       "    <tr>\n",
       "      <th>25%</th>\n",
       "      <td>3.0</td>\n",
       "      <td>7.000000</td>\n",
       "      <td>1977.000000</td>\n",
       "    </tr>\n",
       "    <tr>\n",
       "      <th>50%</th>\n",
       "      <td>6.0</td>\n",
       "      <td>25.500000</td>\n",
       "      <td>1991.000000</td>\n",
       "    </tr>\n",
       "    <tr>\n",
       "      <th>75%</th>\n",
       "      <td>8.0</td>\n",
       "      <td>70.500000</td>\n",
       "      <td>2008.000000</td>\n",
       "    </tr>\n",
       "    <tr>\n",
       "      <th>max</th>\n",
       "      <td>16.0</td>\n",
       "      <td>860.000000</td>\n",
       "      <td>2024.000000</td>\n",
       "    </tr>\n",
       "  </tbody>\n",
       "</table>\n",
       "</div>"
      ],
      "text/plain": [
       "            Pos         PTS         year\n",
       "count     693.0  695.000000   695.000000\n",
       "mean    5.88456   70.191367  1992.133813\n",
       "std    3.295812  125.683887    18.337241\n",
       "min         1.0    0.000000  1958.000000\n",
       "25%         3.0    7.000000  1977.000000\n",
       "50%         6.0   25.500000  1991.000000\n",
       "75%         8.0   70.500000  2008.000000\n",
       "max        16.0  860.000000  2024.000000"
      ]
     },
     "execution_count": 85,
     "metadata": {},
     "output_type": "execute_result"
    }
   ],
   "source": [
    "# Basic descriptive statistics teams\n",
    "descriptive_stats = teams.describe()\n",
    "descriptive_stats"
   ]
  },
  {
   "cell_type": "code",
   "execution_count": 92,
   "id": "7c25ed9a-a7b2-46be-98ea-25f15fbbb9d6",
   "metadata": {},
   "outputs": [
    {
     "data": {
      "text/html": [
       "<div>\n",
       "<style scoped>\n",
       "    .dataframe tbody tr th:only-of-type {\n",
       "        vertical-align: middle;\n",
       "    }\n",
       "\n",
       "    .dataframe tbody tr th {\n",
       "        vertical-align: top;\n",
       "    }\n",
       "\n",
       "    .dataframe thead th {\n",
       "        text-align: right;\n",
       "    }\n",
       "</style>\n",
       "<table border=\"1\" class=\"dataframe\">\n",
       "  <thead>\n",
       "    <tr style=\"text-align: right;\">\n",
       "      <th></th>\n",
       "      <th>Date</th>\n",
       "      <th>Laps</th>\n",
       "    </tr>\n",
       "  </thead>\n",
       "  <tbody>\n",
       "    <tr>\n",
       "      <th>count</th>\n",
       "      <td>1107</td>\n",
       "      <td>1107.000000</td>\n",
       "    </tr>\n",
       "    <tr>\n",
       "      <th>mean</th>\n",
       "      <td>1992-09-19 22:27:38.536585344</td>\n",
       "      <td>64.654020</td>\n",
       "    </tr>\n",
       "    <tr>\n",
       "      <th>min</th>\n",
       "      <td>1950-05-13 00:00:00</td>\n",
       "      <td>1.000000</td>\n",
       "    </tr>\n",
       "    <tr>\n",
       "      <th>25%</th>\n",
       "      <td>1976-09-22 12:00:00</td>\n",
       "      <td>54.000000</td>\n",
       "    </tr>\n",
       "    <tr>\n",
       "      <th>50%</th>\n",
       "      <td>1994-06-12 00:00:00</td>\n",
       "      <td>65.000000</td>\n",
       "    </tr>\n",
       "    <tr>\n",
       "      <th>75%</th>\n",
       "      <td>2010-07-18 00:00:00</td>\n",
       "      <td>72.000000</td>\n",
       "    </tr>\n",
       "    <tr>\n",
       "      <th>max</th>\n",
       "      <td>2024-05-05 00:00:00</td>\n",
       "      <td>200.000000</td>\n",
       "    </tr>\n",
       "    <tr>\n",
       "      <th>std</th>\n",
       "      <td>NaN</td>\n",
       "      <td>20.267526</td>\n",
       "    </tr>\n",
       "  </tbody>\n",
       "</table>\n",
       "</div>"
      ],
      "text/plain": [
       "                                Date         Laps\n",
       "count                           1107  1107.000000\n",
       "mean   1992-09-19 22:27:38.536585344    64.654020\n",
       "min              1950-05-13 00:00:00     1.000000\n",
       "25%              1976-09-22 12:00:00    54.000000\n",
       "50%              1994-06-12 00:00:00    65.000000\n",
       "75%              2010-07-18 00:00:00    72.000000\n",
       "max              2024-05-05 00:00:00   200.000000\n",
       "std                              NaN    20.267526"
      ]
     },
     "execution_count": 92,
     "metadata": {},
     "output_type": "execute_result"
    }
   ],
   "source": [
    "# Basic descriptive statistics winners\n",
    "descriptive_stats = winners_nomiss.describe()\n",
    "descriptive_stats"
   ]
  },
  {
   "cell_type": "code",
   "execution_count": 78,
   "id": "dc8b15d1-8fa3-461c-a0c1-b93f43ccb93e",
   "metadata": {},
   "outputs": [
    {
     "data": {
      "text/html": [
       "<div>\n",
       "<style scoped>\n",
       "    .dataframe tbody tr th:only-of-type {\n",
       "        vertical-align: middle;\n",
       "    }\n",
       "\n",
       "    .dataframe tbody tr th {\n",
       "        vertical-align: top;\n",
       "    }\n",
       "\n",
       "    .dataframe thead th {\n",
       "        text-align: right;\n",
       "    }\n",
       "</style>\n",
       "<table border=\"1\" class=\"dataframe\">\n",
       "  <thead>\n",
       "    <tr style=\"text-align: right;\">\n",
       "      <th></th>\n",
       "      <th>year</th>\n",
       "    </tr>\n",
       "  </thead>\n",
       "  <tbody>\n",
       "    <tr>\n",
       "      <th>count</th>\n",
       "      <td>1107.000000</td>\n",
       "    </tr>\n",
       "    <tr>\n",
       "      <th>mean</th>\n",
       "      <td>1992.263776</td>\n",
       "    </tr>\n",
       "    <tr>\n",
       "      <th>std</th>\n",
       "      <td>20.363980</td>\n",
       "    </tr>\n",
       "    <tr>\n",
       "      <th>min</th>\n",
       "      <td>1950.000000</td>\n",
       "    </tr>\n",
       "    <tr>\n",
       "      <th>25%</th>\n",
       "      <td>1976.000000</td>\n",
       "    </tr>\n",
       "    <tr>\n",
       "      <th>50%</th>\n",
       "      <td>1994.000000</td>\n",
       "    </tr>\n",
       "    <tr>\n",
       "      <th>75%</th>\n",
       "      <td>2010.000000</td>\n",
       "    </tr>\n",
       "    <tr>\n",
       "      <th>max</th>\n",
       "      <td>2024.000000</td>\n",
       "    </tr>\n",
       "  </tbody>\n",
       "</table>\n",
       "</div>"
      ],
      "text/plain": [
       "              year\n",
       "count  1107.000000\n",
       "mean   1992.263776\n",
       "std      20.363980\n",
       "min    1950.000000\n",
       "25%    1976.000000\n",
       "50%    1994.000000\n",
       "75%    2010.000000\n",
       "max    2024.000000"
      ]
     },
     "execution_count": 78,
     "metadata": {},
     "output_type": "execute_result"
    }
   ],
   "source": [
    "# Basic descriptive statistics laps\n",
    "descriptive_stats = laps_nomiss.describe()\n",
    "descriptive_stats"
   ]
  },
  {
   "cell_type": "markdown",
   "id": "e6ed7b59-fdac-4c5b-8a9e-8ab1ae588447",
   "metadata": {},
   "source": [
    "#### 4. Check column data types"
   ]
  },
  {
   "cell_type": "code",
   "execution_count": 79,
   "id": "a25983bf-cc78-4682-9b82-279b91574582",
   "metadata": {},
   "outputs": [
    {
     "data": {
      "text/plain": [
       "Pos             object\n",
       "Driver          object\n",
       "Nationality     object\n",
       "Car             object\n",
       "PTS            float64\n",
       "year             int64\n",
       "Code            object\n",
       "dtype: object"
      ]
     },
     "execution_count": 79,
     "metadata": {},
     "output_type": "execute_result"
    }
   ],
   "source": [
    "# Check the data types of each column\n",
    "column_data_types = drivers_nomiss.dtypes\n",
    "column_data_types"
   ]
  },
  {
   "cell_type": "code",
   "execution_count": 81,
   "id": "d189ac0f-09da-4e03-920f-f543cbc9d8d9",
   "metadata": {},
   "outputs": [
    {
     "data": {
      "text/plain": [
       "Pos              Int64\n",
       "Driver          object\n",
       "Nationality     object\n",
       "Car             object\n",
       "PTS            float64\n",
       "year             int64\n",
       "Code            object\n",
       "dtype: object"
      ]
     },
     "execution_count": 81,
     "metadata": {},
     "output_type": "execute_result"
    }
   ],
   "source": [
    "# Convert 'Pos' column to integer if it contains only numeric values using .loc\n",
    "drivers_nomiss.loc[:, 'Pos'] = pd.to_numeric(drivers_nomiss['Pos'], errors='coerce').astype('Int64')\n",
    "\n",
    "# Verify the updated data types\n",
    "updated_column_data_types = drivers_nomiss.dtypes\n",
    "updated_column_data_types"
   ]
  },
  {
   "cell_type": "code",
   "execution_count": 83,
   "id": "4570cfd1-a527-411f-a739-f530dfe4aab7",
   "metadata": {},
   "outputs": [
    {
     "data": {
      "text/plain": [
       "Pos      object\n",
       "Team     object\n",
       "PTS     float64\n",
       "year      int64\n",
       "dtype: object"
      ]
     },
     "execution_count": 83,
     "metadata": {},
     "output_type": "execute_result"
    }
   ],
   "source": [
    "# Check the data types of each column\n",
    "column_data_types = teams.dtypes\n",
    "column_data_types"
   ]
  },
  {
   "cell_type": "code",
   "execution_count": 84,
   "id": "a71b81ee-331e-49f1-9baa-d72ec5c74b6c",
   "metadata": {},
   "outputs": [],
   "source": [
    "# Convert 'Pos' column to integer if it contains only numeric values\n",
    "teams['Pos'] = pd.to_numeric(teams['Pos'], errors='coerce').astype('Int64')"
   ]
  },
  {
   "cell_type": "code",
   "execution_count": 86,
   "id": "8792fd3c-02a7-4c30-843e-521aeb27a364",
   "metadata": {},
   "outputs": [
    {
     "data": {
      "text/plain": [
       "Grand Prix     object\n",
       "Date           object\n",
       "Winner         object\n",
       "Car            object\n",
       "Laps          float64\n",
       "Time           object\n",
       "Name Code      object\n",
       "dtype: object"
      ]
     },
     "execution_count": 86,
     "metadata": {},
     "output_type": "execute_result"
    }
   ],
   "source": [
    "# Check the data types of each column\n",
    "column_data_types = winners_nomiss.dtypes\n",
    "column_data_types"
   ]
  },
  {
   "cell_type": "code",
   "execution_count": 88,
   "id": "e1d4054e-c430-43ac-9a42-57c652878f27",
   "metadata": {},
   "outputs": [],
   "source": [
    "# Convert 'Date' column to datetime using .loc to avoid the warning\n",
    "winners_nomiss.loc[:, 'Date'] = pd.to_datetime(winners_nomiss['Date'], errors='coerce')"
   ]
  },
  {
   "cell_type": "code",
   "execution_count": 90,
   "id": "9fef32ad-13d9-4859-9d44-1d294522db48",
   "metadata": {},
   "outputs": [],
   "source": [
    "# Convert\n",
    "winners_nomiss.loc[:, 'Laps'] = pd.to_numeric(winners_nomiss['Laps'], downcast='integer', errors='coerce')"
   ]
  },
  {
   "cell_type": "code",
   "execution_count": 91,
   "id": "ed402e69-9e96-404f-8d35-ac6ec13588f0",
   "metadata": {},
   "outputs": [
    {
     "data": {
      "text/plain": [
       "Grand Prix            object\n",
       "Date          datetime64[ns]\n",
       "Winner                object\n",
       "Car                   object\n",
       "Laps                   int16\n",
       "Time                  object\n",
       "Name Code             object\n",
       "dtype: object"
      ]
     },
     "execution_count": 91,
     "metadata": {},
     "output_type": "execute_result"
    }
   ],
   "source": [
    "# Check the data types of each column\n",
    "column_data_types = winners_nomiss.dtypes\n",
    "column_data_types"
   ]
  },
  {
   "cell_type": "code",
   "execution_count": 93,
   "id": "8764ab01-d44e-4918-ab27-2d4c9d07293b",
   "metadata": {},
   "outputs": [
    {
     "data": {
      "text/plain": [
       "Grand Prix    object\n",
       "Driver        object\n",
       "Car           object\n",
       "Time          object\n",
       "year           int64\n",
       "Code          object\n",
       "dtype: object"
      ]
     },
     "execution_count": 93,
     "metadata": {},
     "output_type": "execute_result"
    }
   ],
   "source": [
    "# Check the data types of each column\n",
    "column_data_types = laps_nomiss.dtypes\n",
    "column_data_types"
   ]
  },
  {
   "cell_type": "markdown",
   "id": "c393812c-c9e2-42e4-ac36-681cd6e772cc",
   "metadata": {},
   "source": [
    "#### 5. Export CSV's"
   ]
  },
  {
   "cell_type": "code",
   "execution_count": 94,
   "id": "e00f8c6a-bba1-4688-a8ad-2f25db0307ea",
   "metadata": {},
   "outputs": [],
   "source": [
    "drivers_nomiss.to_csv(os.path.join(path, 'Data After Assignment 6.1', 'driversdata.csv'))"
   ]
  },
  {
   "cell_type": "code",
   "execution_count": 95,
   "id": "49643609-745c-4b7f-bcbd-679a7c55f4c1",
   "metadata": {},
   "outputs": [],
   "source": [
    "teams.to_csv(os.path.join(path, 'Data After Assignment 6.1', 'teamsdata.csv'))"
   ]
  },
  {
   "cell_type": "code",
   "execution_count": 96,
   "id": "7c4c2e1e-2b71-4eaf-8fab-c6af6df4768e",
   "metadata": {},
   "outputs": [],
   "source": [
    "winners_nomiss.to_csv(os.path.join(path, 'Data After Assignment 6.1', 'winnersdata.csv'))"
   ]
  },
  {
   "cell_type": "code",
   "execution_count": 97,
   "id": "aba44001-2914-48ce-956e-1e5c638a09b8",
   "metadata": {},
   "outputs": [],
   "source": [
    "laps_nomiss.to_csv(os.path.join(path, 'Data After Assignment 6.1', 'lapsdata.csv'))"
   ]
  },
  {
   "cell_type": "code",
   "execution_count": 98,
   "id": "a3dad25f-5ca1-49d6-99ba-eeeb0f82352c",
   "metadata": {},
   "outputs": [],
   "source": [
    "# end notebook"
   ]
  },
  {
   "cell_type": "code",
   "execution_count": null,
   "id": "10e79b1c-550f-446f-a0ee-87fcd759cfe0",
   "metadata": {},
   "outputs": [],
   "source": []
  }
 ],
 "metadata": {
  "kernelspec": {
   "display_name": "Python 3 (ipykernel)",
   "language": "python",
   "name": "python3"
  },
  "language_info": {
   "codemirror_mode": {
    "name": "ipython",
    "version": 3
   },
   "file_extension": ".py",
   "mimetype": "text/x-python",
   "name": "python",
   "nbconvert_exporter": "python",
   "pygments_lexer": "ipython3",
   "version": "3.12.4"
  }
 },
 "nbformat": 4,
 "nbformat_minor": 5
}
